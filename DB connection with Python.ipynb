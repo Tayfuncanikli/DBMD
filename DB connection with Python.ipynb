{
 "cells": [
  {
   "cell_type": "code",
   "execution_count": 2,
   "metadata": {},
   "outputs": [
    {
     "name": "stdout",
     "output_type": "stream",
     "text": [
      "Requirement already satisfied: pyodbc in c:\\users\\tayfu\\anaconda3\\lib\\site-packages (4.0.0-unsupported)\n",
      "Note: you may need to restart the kernel to use updated packages.\n"
     ]
    }
   ],
   "source": [
    "pip install pyodbc"
   ]
  },
  {
   "cell_type": "code",
   "execution_count": 1,
   "metadata": {},
   "outputs": [],
   "source": [
    "import pyodbc"
   ]
  },
  {
   "cell_type": "markdown",
   "metadata": {},
   "source": [
    "## SQL Server Connection"
   ]
  },
  {
   "cell_type": "code",
   "execution_count": 2,
   "metadata": {},
   "outputs": [],
   "source": [
    "def create_server_connection(driver, server, database, user, password):\n",
    "    conn = None\n",
    "    try:\n",
    "        conn = pyodbc.connect(DRIVER = driver, SERVER= server, DATABASE = database, UID= user, PWD= password)\n",
    "        print(\"Successfull\")\n",
    "    except Error as err:\n",
    "        print(f\"Error:'{err}'\")\n",
    "    return conn"
   ]
  },
  {
   "cell_type": "markdown",
   "metadata": {},
   "source": [
    "### Our main issue is to create a connect using the pyodbc method. Whether you want to write what you want inside it or create it outside and write it below. The function here is actually to check whether the connection was successful or not."
   ]
  },
  {
   "cell_type": "code",
   "execution_count": 3,
   "metadata": {
    "scrolled": true
   },
   "outputs": [
    {
     "name": "stdout",
     "output_type": "stream",
     "text": [
      "Successfull\n"
     ]
    }
   ],
   "source": [
    "driver = '{ODBC Driver 17 for SQL Server}'\n",
    "server = '.\\MSSQLSERVER2' # Current Local server \n",
    "database = 'master'#you can add existing DB you would like to work on\n",
    "user = 'sa'\n",
    "password = '---------'\n",
    "conn = create_server_connection(driver, server, database, user, password)"
   ]
  },
  {
   "cell_type": "markdown",
   "metadata": {},
   "source": [
    "## Windows Authentication"
   ]
  },
  {
   "cell_type": "markdown",
   "metadata": {},
   "source": [
    "#### What we do here is to create a trusted connection."
   ]
  },
  {
   "cell_type": "code",
   "execution_count": 99,
   "metadata": {},
   "outputs": [],
   "source": [
    "conn_string = \"driver={ODBC Driver 17 for SQL Server}; server=.\\MSSQLSERVER2; database=master; TRUSTED_CONNECTION=yes;\""
   ]
  },
  {
   "cell_type": "code",
   "execution_count": 100,
   "metadata": {},
   "outputs": [],
   "source": [
    "conn = pyodbc.connect(conn_string);  # connection objesi"
   ]
  },
  {
   "cell_type": "code",
   "execution_count": 101,
   "metadata": {},
   "outputs": [],
   "source": [
    "crs = conn.cursor()  # database içindeki verilere satır satır ulaşmayı sağlayan araçtır"
   ]
  },
  {
   "cell_type": "code",
   "execution_count": 102,
   "metadata": {},
   "outputs": [],
   "source": [
    "conn.autocommit = True # conn.commit() we did automatically"
   ]
  },
  {
   "cell_type": "code",
   "execution_count": 10,
   "metadata": {},
   "outputs": [],
   "source": [
    "create_database_query = 'Create database test_1'"
   ]
  },
  {
   "cell_type": "code",
   "execution_count": 11,
   "metadata": {},
   "outputs": [],
   "source": [
    "def create_database (conn, create_database_query):\n",
    "    crs = conn.cursor()\n",
    "    try:\n",
    "        crs.execute(create_database_query)\n",
    "        print(\"Database is created succesfully\")\n",
    "    except Error as err:\n",
    "        print(f\"Error:'{err}'\")"
   ]
  },
  {
   "cell_type": "code",
   "execution_count": 12,
   "metadata": {},
   "outputs": [
    {
     "name": "stdout",
     "output_type": "stream",
     "text": [
      "Database is created succesfully\n"
     ]
    }
   ],
   "source": [
    "create_database(conn, create_database_query)"
   ]
  },
  {
   "cell_type": "markdown",
   "metadata": {},
   "source": [
    "#### Another function to run query "
   ]
  },
  {
   "cell_type": "code",
   "execution_count": 76,
   "metadata": {},
   "outputs": [],
   "source": [
    "def execute_query(conn, query):\n",
    "    crs = conn.cursor()\n",
    "    try:\n",
    "        crs.execute(query)\n",
    "        conn.commit()\n",
    "        print(\"Query Succeessful!\")\n",
    "    except Error as err:\n",
    "        print(f\"Error:'{err}'\")"
   ]
  },
  {
   "cell_type": "code",
   "execution_count": 77,
   "metadata": {},
   "outputs": [
    {
     "name": "stdout",
     "output_type": "stream",
     "text": [
      "Query Succeessful!\n"
     ]
    }
   ],
   "source": [
    "query = 'USE test_1'\n",
    "execute_query(conn,query)"
   ]
  },
  {
   "cell_type": "markdown",
   "metadata": {},
   "source": [
    "## Create Table"
   ]
  },
  {
   "cell_type": "markdown",
   "metadata": {},
   "source": [
    "#### We connected with Windows Authentication to avoid entering a password"
   ]
  },
  {
   "cell_type": "code",
   "execution_count": 16,
   "metadata": {},
   "outputs": [
    {
     "name": "stdout",
     "output_type": "stream",
     "text": [
      "Query Succeessful!\n"
     ]
    }
   ],
   "source": [
    "query = 'CREATE TABLE Test_Table (\\\n",
    "           ID INT IDENTITY (1,1) NOT NULL, \\\n",
    "           FirstName VARCHAR(255) NOT NULL,\\\n",
    "           LastName VARCHAR(255) NOT NULL,\\\n",
    "           PRIMARY KEY(ID))'\n",
    "execute_query(conn, query)"
   ]
  },
  {
   "cell_type": "markdown",
   "metadata": {},
   "source": [
    "#### I have created Test_Table table under test1 database."
   ]
  },
  {
   "cell_type": "markdown",
   "metadata": {},
   "source": [
    "## Insert (table)"
   ]
  },
  {
   "cell_type": "code",
   "execution_count": 18,
   "metadata": {},
   "outputs": [
    {
     "data": {
      "text/plain": [
       "<pyodbc.Cursor at 0x169afd62430>"
      ]
     },
     "execution_count": 18,
     "metadata": {},
     "output_type": "execute_result"
    }
   ],
   "source": [
    "crs = conn.cursor()\n",
    "crs.execute(\"INSERT Test_Table(FirstName,LastName) VALUES('Bob', 'Marley')\")\n",
    "#conn.commit()"
   ]
  },
  {
   "cell_type": "markdown",
   "metadata": {},
   "source": [
    "***Bob Marley inserted***"
   ]
  },
  {
   "cell_type": "code",
   "execution_count": 34,
   "metadata": {},
   "outputs": [
    {
     "data": {
      "text/plain": [
       "<pyodbc.Cursor at 0x169afd62430>"
      ]
     },
     "execution_count": 34,
     "metadata": {},
     "output_type": "execute_result"
    }
   ],
   "source": [
    "crs.execute(\"INSERT Test_Table (FirstName, LastName) VALUES ('Bruce', 'Lee'),('Bart','Simpson')\")"
   ]
  },
  {
   "cell_type": "markdown",
   "metadata": {},
   "source": [
    "#### You can also insert with parameter like below"
   ]
  },
  {
   "cell_type": "code",
   "execution_count": 36,
   "metadata": {},
   "outputs": [
    {
     "data": {
      "text/plain": [
       "<pyodbc.Cursor at 0x169afd62430>"
      ]
     },
     "execution_count": 36,
     "metadata": {},
     "output_type": "execute_result"
    }
   ],
   "source": [
    "crs.execute(\"INSERT Test_Table (FirstName, LastName) VALUES (?,?)\",'Tom', 'Hanks')\n",
    "crs.execute(\"INSERT Test_Table (FirstName, LastName) VALUES (?,?)\",'Tom', 'Cat')\n",
    "crs.execute(\"INSERT Test_Table (FirstName, LastName) VALUES (?,?)\",'Jerry', 'Mouse')\n",
    "crs.execute(\"INSERT Test_Table (FirstName, LastName) VALUES (?,?)\",'Owen', 'William')\n",
    "crs.execute(\"INSERT Test_Table (FirstName, LastName) VALUES (?,?)\",'Stefan', 'Müller')"
   ]
  },
  {
   "cell_type": "markdown",
   "metadata": {},
   "source": [
    "## Delete"
   ]
  },
  {
   "cell_type": "code",
   "execution_count": 38,
   "metadata": {},
   "outputs": [
    {
     "data": {
      "text/plain": [
       "<pyodbc.Cursor at 0x169afd62430>"
      ]
     },
     "execution_count": 38,
     "metadata": {},
     "output_type": "execute_result"
    }
   ],
   "source": [
    "crs.execute(\"DELETE FROM Test_Table WHERE FirstName = 'Tom'\")  # Deleted the id which is Tom"
   ]
  },
  {
   "cell_type": "code",
   "execution_count": 40,
   "metadata": {},
   "outputs": [
    {
     "data": {
      "text/plain": [
       "<pyodbc.Cursor at 0x169afd62430>"
      ]
     },
     "execution_count": 40,
     "metadata": {},
     "output_type": "execute_result"
    }
   ],
   "source": [
    "crs.execute(\"DELETE FROM Test_Table WHERE FirstName = ?\" ,'Stefan')"
   ]
  },
  {
   "cell_type": "markdown",
   "metadata": {},
   "source": [
    "## Rowcount "
   ]
  },
  {
   "cell_type": "markdown",
   "metadata": {},
   "source": [
    "#### Indicates the number of processes affected as a result of the last executed operation."
   ]
  },
  {
   "cell_type": "code",
   "execution_count": 33,
   "metadata": {},
   "outputs": [
    {
     "data": {
      "text/plain": [
       "1"
      ]
     },
     "execution_count": 33,
     "metadata": {},
     "output_type": "execute_result"
    }
   ],
   "source": [
    "crs.rowcount"
   ]
  },
  {
   "cell_type": "code",
   "execution_count": 41,
   "metadata": {},
   "outputs": [
    {
     "name": "stdout",
     "output_type": "stream",
     "text": [
      "1 row(s) deleted\n"
     ]
    }
   ],
   "source": [
    "print(crs.rowcount,\"row(s) deleted\")"
   ]
  },
  {
   "cell_type": "markdown",
   "metadata": {},
   "source": [
    "## Read Data"
   ]
  },
  {
   "cell_type": "markdown",
   "metadata": {},
   "source": [
    "## fetchone()"
   ]
  },
  {
   "cell_type": "markdown",
   "metadata": {},
   "source": [
    "#### It serves to capture and display the data in SQL without going to the database."
   ]
  },
  {
   "cell_type": "code",
   "execution_count": 43,
   "metadata": {},
   "outputs": [
    {
     "data": {
      "text/plain": [
       "('Bob', 'Marley')"
      ]
     },
     "execution_count": 43,
     "metadata": {},
     "output_type": "execute_result"
    }
   ],
   "source": [
    "crs.execute('SELECT FirstName, LastName FROM Test_Table')\n",
    "row = crs.fetchone() # tablodaki ilk kaydı getirir\n",
    "row"
   ]
  },
  {
   "cell_type": "code",
   "execution_count": 44,
   "metadata": {},
   "outputs": [
    {
     "data": {
      "text/plain": [
       "('Bruce', 'Lee')"
      ]
     },
     "execution_count": 44,
     "metadata": {},
     "output_type": "execute_result"
    }
   ],
   "source": [
    "row = crs.fetchone() # now skips the first data and returns the second record\n",
    "row"
   ]
  },
  {
   "cell_type": "code",
   "execution_count": 45,
   "metadata": {},
   "outputs": [
    {
     "data": {
      "text/plain": [
       "('Bob', 'Marley')"
      ]
     },
     "execution_count": 45,
     "metadata": {},
     "output_type": "execute_result"
    }
   ],
   "source": [
    "crs.execute('SELECT FirstName, LastName FROM Test_Table')\n",
    "row = crs.fetchone() \n",
    "row"
   ]
  },
  {
   "cell_type": "markdown",
   "metadata": {},
   "source": [
    "If you want it to start from the beginning, not to skip and go from the second one, it is necessary to write this again at the beginning.\n",
    "\n",
    "***crs.execute('SELECT FirstName, LastName FROM TestA')***"
   ]
  },
  {
   "cell_type": "code",
   "execution_count": 46,
   "metadata": {},
   "outputs": [
    {
     "data": {
      "text/plain": [
       "'Bob'"
      ]
     },
     "execution_count": 46,
     "metadata": {},
     "output_type": "execute_result"
    }
   ],
   "source": [
    "row.FirstName  # returned the desired column data in the row where the cursor is present"
   ]
  },
  {
   "cell_type": "code",
   "execution_count": 47,
   "metadata": {},
   "outputs": [
    {
     "data": {
      "text/plain": [
       "'Marley'"
      ]
     },
     "execution_count": 47,
     "metadata": {},
     "output_type": "execute_result"
    }
   ],
   "source": [
    "row.LastName  "
   ]
  },
  {
   "cell_type": "markdown",
   "metadata": {},
   "source": [
    "## fetchall()"
   ]
  },
  {
   "cell_type": "code",
   "execution_count": 49,
   "metadata": {},
   "outputs": [
    {
     "data": {
      "text/plain": [
       "[(1, 'Bob', 'Marley'),\n",
       " (2, 'Bruce', 'Lee'),\n",
       " (4, 'Bruce', 'Lee'),\n",
       " (5, 'Bart', 'Simpson'),\n",
       " (9, 'Jerry', 'Mouse'),\n",
       " (10, 'Owen', 'William')]"
      ]
     },
     "execution_count": 49,
     "metadata": {},
     "output_type": "execute_result"
    }
   ],
   "source": [
    "crs.execute('SELECT ID, FirstName, LastName FROM Test_Table')\n",
    "rows = crs.fetchall()\n",
    "rows"
   ]
  },
  {
   "cell_type": "code",
   "execution_count": 50,
   "metadata": {},
   "outputs": [
    {
     "name": "stdout",
     "output_type": "stream",
     "text": [
      "1 Bob Marley\n",
      "2 Bruce Lee\n",
      "4 Bruce Lee\n",
      "5 Bart Simpson\n",
      "9 Jerry Mouse\n",
      "10 Owen William\n"
     ]
    }
   ],
   "source": [
    "for row in rows:\n",
    "    print(row.ID, row.FirstName, row.LastName)"
   ]
  },
  {
   "cell_type": "code",
   "execution_count": 52,
   "metadata": {},
   "outputs": [
    {
     "data": {
      "text/plain": [
       "[(1, 'Bob', 'Marley'),\n",
       " (2, 'Bruce', 'Lee'),\n",
       " (4, 'Bruce', 'Lee'),\n",
       " (5, 'Bart', 'Simpson'),\n",
       " (9, 'Jerry', 'Mouse'),\n",
       " (10, 'Owen', 'William')]"
      ]
     },
     "execution_count": 52,
     "metadata": {},
     "output_type": "execute_result"
    }
   ],
   "source": [
    "crs.execute(\"\"\"SELECT ID, FirstName, LastName\n",
    "                FROM Test_Table\"\"\")\n",
    "rows = crs.fetchall()\n",
    "rows"
   ]
  },
  {
   "cell_type": "code",
   "execution_count": 53,
   "metadata": {},
   "outputs": [
    {
     "data": {
      "text/plain": [
       "list"
      ]
     },
     "execution_count": 53,
     "metadata": {},
     "output_type": "execute_result"
    }
   ],
   "source": [
    "type(rows)  # datatype"
   ]
  },
  {
   "cell_type": "code",
   "execution_count": 55,
   "metadata": {},
   "outputs": [
    {
     "data": {
      "text/plain": [
       "[(10, 'Owen', 'William')]"
      ]
     },
     "execution_count": 55,
     "metadata": {},
     "output_type": "execute_result"
    }
   ],
   "source": [
    "# with filter\n",
    "\n",
    "crs.execute(\"\"\"SELECT ID, FirstName, LastName\n",
    "               FROM Test_Table\n",
    "               WHERE FirstName = ? and LastName = ?\"\"\", ['Owen', 'William'])\n",
    "rows = crs.fetchall()\n",
    "rows"
   ]
  },
  {
   "cell_type": "markdown",
   "metadata": {},
   "source": [
    "## fetchmany()"
   ]
  },
  {
   "cell_type": "markdown",
   "metadata": {},
   "source": [
    "Returns the record how many want"
   ]
  },
  {
   "cell_type": "code",
   "execution_count": 57,
   "metadata": {},
   "outputs": [
    {
     "data": {
      "text/plain": [
       "[(1, 'Bob', 'Marley'),\n",
       " (2, 'Bruce', 'Lee'),\n",
       " (4, 'Bruce', 'Lee'),\n",
       " (5, 'Bart', 'Simpson'),\n",
       " (9, 'Jerry', 'Mouse')]"
      ]
     },
     "execution_count": 57,
     "metadata": {},
     "output_type": "execute_result"
    }
   ],
   "source": [
    "crs.execute(\"\"\"SELECT ID, FirstName, LastName\n",
    "               FROM Test_Table\"\"\")\n",
    "rows = crs.fetchmany(5)\n",
    "rows"
   ]
  },
  {
   "cell_type": "markdown",
   "metadata": {},
   "source": [
    "## Fetchval()"
   ]
  },
  {
   "cell_type": "markdown",
   "metadata": {},
   "source": [
    "Bring the value"
   ]
  },
  {
   "cell_type": "code",
   "execution_count": 59,
   "metadata": {},
   "outputs": [
    {
     "data": {
      "text/plain": [
       "10"
      ]
     },
     "execution_count": 59,
     "metadata": {},
     "output_type": "execute_result"
    }
   ],
   "source": [
    "crs.execute(\"SELECT MAX(ID) FROM Test_Table\").fetchval()"
   ]
  },
  {
   "cell_type": "code",
   "execution_count": 60,
   "metadata": {},
   "outputs": [
    {
     "data": {
      "text/plain": [
       "'Marley'"
      ]
     },
     "execution_count": 60,
     "metadata": {},
     "output_type": "execute_result"
    }
   ],
   "source": [
    "crs.execute(\"SELECT LastName FROM Test_Table\").fetchval()"
   ]
  },
  {
   "cell_type": "markdown",
   "metadata": {},
   "source": [
    "## Pandas Methods"
   ]
  },
  {
   "cell_type": "code",
   "execution_count": 61,
   "metadata": {},
   "outputs": [],
   "source": [
    "import pandas as pd"
   ]
  },
  {
   "cell_type": "markdown",
   "metadata": {},
   "source": [
    "#### Manually we tranformed data into Dataframe"
   ]
  },
  {
   "cell_type": "code",
   "execution_count": 78,
   "metadata": {},
   "outputs": [],
   "source": [
    "def read_query (conn, query): #connection nesnesi yukarıda tanımlanmıştı.\n",
    "    crs = conn. cursor()\n",
    "    results = None\n",
    "    crs.execute(query)\n",
    "    results = crs.fetchall()\n",
    "    return results"
   ]
  },
  {
   "cell_type": "code",
   "execution_count": 79,
   "metadata": {},
   "outputs": [],
   "source": [
    "query = \"\"\"SELECT ID, FirstName, LastName FROM dbo.Test_Table\"\"\"\n",
    "               "
   ]
  },
  {
   "cell_type": "code",
   "execution_count": 80,
   "metadata": {},
   "outputs": [],
   "source": [
    "crs = conn.cursor()"
   ]
  },
  {
   "cell_type": "code",
   "execution_count": 81,
   "metadata": {},
   "outputs": [],
   "source": [
    "result=read_query (conn, query)"
   ]
  },
  {
   "cell_type": "code",
   "execution_count": 82,
   "metadata": {},
   "outputs": [],
   "source": [
    "from_db = []\n",
    "for result in result:\n",
    "    result = list(result)\n",
    "    from_db.append(result)"
   ]
  },
  {
   "cell_type": "code",
   "execution_count": 83,
   "metadata": {},
   "outputs": [
    {
     "data": {
      "text/html": [
       "<div>\n",
       "<style scoped>\n",
       "    .dataframe tbody tr th:only-of-type {\n",
       "        vertical-align: middle;\n",
       "    }\n",
       "\n",
       "    .dataframe tbody tr th {\n",
       "        vertical-align: top;\n",
       "    }\n",
       "\n",
       "    .dataframe thead th {\n",
       "        text-align: right;\n",
       "    }\n",
       "</style>\n",
       "<table border=\"1\" class=\"dataframe\">\n",
       "  <thead>\n",
       "    <tr style=\"text-align: right;\">\n",
       "      <th></th>\n",
       "      <th>ID</th>\n",
       "      <th>FirstName</th>\n",
       "      <th>LastName</th>\n",
       "    </tr>\n",
       "  </thead>\n",
       "  <tbody>\n",
       "    <tr>\n",
       "      <th>0</th>\n",
       "      <td>1</td>\n",
       "      <td>Bob</td>\n",
       "      <td>Marley</td>\n",
       "    </tr>\n",
       "    <tr>\n",
       "      <th>1</th>\n",
       "      <td>2</td>\n",
       "      <td>Bruce</td>\n",
       "      <td>Lee</td>\n",
       "    </tr>\n",
       "    <tr>\n",
       "      <th>2</th>\n",
       "      <td>4</td>\n",
       "      <td>Bruce</td>\n",
       "      <td>Lee</td>\n",
       "    </tr>\n",
       "    <tr>\n",
       "      <th>3</th>\n",
       "      <td>5</td>\n",
       "      <td>Bart</td>\n",
       "      <td>Simpson</td>\n",
       "    </tr>\n",
       "    <tr>\n",
       "      <th>4</th>\n",
       "      <td>9</td>\n",
       "      <td>Jerry</td>\n",
       "      <td>Mouse</td>\n",
       "    </tr>\n",
       "    <tr>\n",
       "      <th>5</th>\n",
       "      <td>10</td>\n",
       "      <td>Owen</td>\n",
       "      <td>William</td>\n",
       "    </tr>\n",
       "  </tbody>\n",
       "</table>\n",
       "</div>"
      ],
      "text/plain": [
       "   ID FirstName LastName\n",
       "0   1       Bob   Marley\n",
       "1   2     Bruce      Lee\n",
       "2   4     Bruce      Lee\n",
       "3   5      Bart  Simpson\n",
       "4   9     Jerry    Mouse\n",
       "5  10      Owen  William"
      ]
     },
     "execution_count": 83,
     "metadata": {},
     "output_type": "execute_result"
    }
   ],
   "source": [
    "columns = ['ID','FirstName', 'LastName']\n",
    "df = pd.DataFrame(from_db, columns = columns)\n",
    "df"
   ]
  },
  {
   "cell_type": "markdown",
   "metadata": {},
   "source": [
    "#### With read_aql method easily converted data to Dataframe"
   ]
  },
  {
   "cell_type": "code",
   "execution_count": 103,
   "metadata": {},
   "outputs": [
    {
     "name": "stdout",
     "output_type": "stream",
     "text": [
      "Query Succeessful!\n"
     ]
    }
   ],
   "source": [
    "query = 'use RFM'\n",
    "execute_query(conn,query)"
   ]
  },
  {
   "cell_type": "code",
   "execution_count": 95,
   "metadata": {},
   "outputs": [
    {
     "data": {
      "text/plain": [
       "[(510866.0, '21201', 'TROPICAL  HONEYCOMB PAPER GARLAND ', 1.0, datetime.datetime(2010, 6, 4, 9, 52), 2.55, None, 'United Kingdom'),\n",
       " (510866.0, '21206', 'STRAWBERRY HONEYCOMB  GARLAND ', 1.0, datetime.datetime(2010, 6, 4, 9, 52), 1.65, None, 'United Kingdom'),\n",
       " (510866.0, '84705D', 'CHERRY BLOSSOM PHOTO FRAME ', 1.0, datetime.datetime(2010, 6, 4, 9, 52), 4.65, None, 'United Kingdom'),\n",
       " (510866.0, '21214', 'SET OF 72 IVORY PAPER DOILIES', 1.0, datetime.datetime(2010, 6, 4, 9, 52), 1.45, None, 'United Kingdom')]"
      ]
     },
     "execution_count": 95,
     "metadata": {},
     "output_type": "execute_result"
    }
   ],
   "source": [
    "crs.execute(\"SELECT * FROM Year2009\").fetchmany(4)"
   ]
  },
  {
   "cell_type": "code",
   "execution_count": 105,
   "metadata": {},
   "outputs": [
    {
     "data": {
      "text/html": [
       "<div>\n",
       "<style scoped>\n",
       "    .dataframe tbody tr th:only-of-type {\n",
       "        vertical-align: middle;\n",
       "    }\n",
       "\n",
       "    .dataframe tbody tr th {\n",
       "        vertical-align: top;\n",
       "    }\n",
       "\n",
       "    .dataframe thead th {\n",
       "        text-align: right;\n",
       "    }\n",
       "</style>\n",
       "<table border=\"1\" class=\"dataframe\">\n",
       "  <thead>\n",
       "    <tr style=\"text-align: right;\">\n",
       "      <th></th>\n",
       "      <th>Invoice</th>\n",
       "      <th>StockCode</th>\n",
       "      <th>Description</th>\n",
       "      <th>Quantity</th>\n",
       "      <th>InvoiceDate</th>\n",
       "      <th>Price</th>\n",
       "      <th>Customer ID</th>\n",
       "      <th>Country</th>\n",
       "    </tr>\n",
       "  </thead>\n",
       "  <tbody>\n",
       "    <tr>\n",
       "      <th>0</th>\n",
       "      <td>510866.0</td>\n",
       "      <td>21201</td>\n",
       "      <td>TROPICAL  HONEYCOMB PAPER GARLAND</td>\n",
       "      <td>1.0</td>\n",
       "      <td>2010-06-04 09:52:00</td>\n",
       "      <td>2.55</td>\n",
       "      <td>NaN</td>\n",
       "      <td>United Kingdom</td>\n",
       "    </tr>\n",
       "    <tr>\n",
       "      <th>1</th>\n",
       "      <td>510866.0</td>\n",
       "      <td>21206</td>\n",
       "      <td>STRAWBERRY HONEYCOMB  GARLAND</td>\n",
       "      <td>1.0</td>\n",
       "      <td>2010-06-04 09:52:00</td>\n",
       "      <td>1.65</td>\n",
       "      <td>NaN</td>\n",
       "      <td>United Kingdom</td>\n",
       "    </tr>\n",
       "    <tr>\n",
       "      <th>2</th>\n",
       "      <td>510866.0</td>\n",
       "      <td>84705D</td>\n",
       "      <td>CHERRY BLOSSOM PHOTO FRAME</td>\n",
       "      <td>1.0</td>\n",
       "      <td>2010-06-04 09:52:00</td>\n",
       "      <td>4.65</td>\n",
       "      <td>NaN</td>\n",
       "      <td>United Kingdom</td>\n",
       "    </tr>\n",
       "    <tr>\n",
       "      <th>3</th>\n",
       "      <td>510866.0</td>\n",
       "      <td>21214</td>\n",
       "      <td>SET OF 72 IVORY PAPER DOILIES</td>\n",
       "      <td>1.0</td>\n",
       "      <td>2010-06-04 09:52:00</td>\n",
       "      <td>1.45</td>\n",
       "      <td>NaN</td>\n",
       "      <td>United Kingdom</td>\n",
       "    </tr>\n",
       "    <tr>\n",
       "      <th>4</th>\n",
       "      <td>510866.0</td>\n",
       "      <td>84985A</td>\n",
       "      <td>SET OF 72 GREEN PAPER DOILIES</td>\n",
       "      <td>1.0</td>\n",
       "      <td>2010-06-04 09:52:00</td>\n",
       "      <td>1.45</td>\n",
       "      <td>NaN</td>\n",
       "      <td>United Kingdom</td>\n",
       "    </tr>\n",
       "    <tr>\n",
       "      <th>...</th>\n",
       "      <td>...</td>\n",
       "      <td>...</td>\n",
       "      <td>...</td>\n",
       "      <td>...</td>\n",
       "      <td>...</td>\n",
       "      <td>...</td>\n",
       "      <td>...</td>\n",
       "      <td>...</td>\n",
       "    </tr>\n",
       "    <tr>\n",
       "      <th>525456</th>\n",
       "      <td>510866.0</td>\n",
       "      <td>47570B</td>\n",
       "      <td>TEA TIME TABLE CLOTH</td>\n",
       "      <td>1.0</td>\n",
       "      <td>2010-06-04 09:52:00</td>\n",
       "      <td>10.65</td>\n",
       "      <td>NaN</td>\n",
       "      <td>United Kingdom</td>\n",
       "    </tr>\n",
       "    <tr>\n",
       "      <th>525457</th>\n",
       "      <td>510866.0</td>\n",
       "      <td>22223</td>\n",
       "      <td>CAKE PLATE LOVEBIRD PINK</td>\n",
       "      <td>1.0</td>\n",
       "      <td>2010-06-04 09:52:00</td>\n",
       "      <td>4.95</td>\n",
       "      <td>NaN</td>\n",
       "      <td>United Kingdom</td>\n",
       "    </tr>\n",
       "    <tr>\n",
       "      <th>525458</th>\n",
       "      <td>510866.0</td>\n",
       "      <td>21199</td>\n",
       "      <td>PINK  HEART CONFETTI IN TUBE</td>\n",
       "      <td>1.0</td>\n",
       "      <td>2010-06-04 09:52:00</td>\n",
       "      <td>1.65</td>\n",
       "      <td>NaN</td>\n",
       "      <td>United Kingdom</td>\n",
       "    </tr>\n",
       "    <tr>\n",
       "      <th>525459</th>\n",
       "      <td>510866.0</td>\n",
       "      <td>37506</td>\n",
       "      <td>NEW ENGLAND MILK JUG W GIFT BOX</td>\n",
       "      <td>1.0</td>\n",
       "      <td>2010-06-04 09:52:00</td>\n",
       "      <td>5.95</td>\n",
       "      <td>NaN</td>\n",
       "      <td>United Kingdom</td>\n",
       "    </tr>\n",
       "    <tr>\n",
       "      <th>525460</th>\n",
       "      <td>510866.0</td>\n",
       "      <td>22062</td>\n",
       "      <td>CERAMIC BOWL WITH LOVE HEART DESIGN</td>\n",
       "      <td>1.0</td>\n",
       "      <td>2010-06-04 09:52:00</td>\n",
       "      <td>2.95</td>\n",
       "      <td>NaN</td>\n",
       "      <td>United Kingdom</td>\n",
       "    </tr>\n",
       "  </tbody>\n",
       "</table>\n",
       "<p>525461 rows × 8 columns</p>\n",
       "</div>"
      ],
      "text/plain": [
       "         Invoice StockCode                          Description  Quantity  \\\n",
       "0       510866.0     21201   TROPICAL  HONEYCOMB PAPER GARLAND        1.0   \n",
       "1       510866.0     21206       STRAWBERRY HONEYCOMB  GARLAND        1.0   \n",
       "2       510866.0    84705D          CHERRY BLOSSOM PHOTO FRAME        1.0   \n",
       "3       510866.0     21214        SET OF 72 IVORY PAPER DOILIES       1.0   \n",
       "4       510866.0    84985A        SET OF 72 GREEN PAPER DOILIES       1.0   \n",
       "...          ...       ...                                  ...       ...   \n",
       "525456  510866.0    47570B                 TEA TIME TABLE CLOTH       1.0   \n",
       "525457  510866.0     22223             CAKE PLATE LOVEBIRD PINK       1.0   \n",
       "525458  510866.0     21199         PINK  HEART CONFETTI IN TUBE       1.0   \n",
       "525459  510866.0     37506      NEW ENGLAND MILK JUG W GIFT BOX       1.0   \n",
       "525460  510866.0     22062  CERAMIC BOWL WITH LOVE HEART DESIGN       1.0   \n",
       "\n",
       "               InvoiceDate  Price  Customer ID         Country  \n",
       "0      2010-06-04 09:52:00   2.55          NaN  United Kingdom  \n",
       "1      2010-06-04 09:52:00   1.65          NaN  United Kingdom  \n",
       "2      2010-06-04 09:52:00   4.65          NaN  United Kingdom  \n",
       "3      2010-06-04 09:52:00   1.45          NaN  United Kingdom  \n",
       "4      2010-06-04 09:52:00   1.45          NaN  United Kingdom  \n",
       "...                    ...    ...          ...             ...  \n",
       "525456 2010-06-04 09:52:00  10.65          NaN  United Kingdom  \n",
       "525457 2010-06-04 09:52:00   4.95          NaN  United Kingdom  \n",
       "525458 2010-06-04 09:52:00   1.65          NaN  United Kingdom  \n",
       "525459 2010-06-04 09:52:00   5.95          NaN  United Kingdom  \n",
       "525460 2010-06-04 09:52:00   2.95          NaN  United Kingdom  \n",
       "\n",
       "[525461 rows x 8 columns]"
      ]
     },
     "execution_count": 105,
     "metadata": {},
     "output_type": "execute_result"
    }
   ],
   "source": [
    "pd.read_sql(\"SELECT * FROM Year2009\", con = conn) "
   ]
  },
  {
   "cell_type": "code",
   "execution_count": 104,
   "metadata": {},
   "outputs": [
    {
     "data": {
      "text/html": [
       "<div>\n",
       "<style scoped>\n",
       "    .dataframe tbody tr th:only-of-type {\n",
       "        vertical-align: middle;\n",
       "    }\n",
       "\n",
       "    .dataframe tbody tr th {\n",
       "        vertical-align: top;\n",
       "    }\n",
       "\n",
       "    .dataframe thead th {\n",
       "        text-align: right;\n",
       "    }\n",
       "</style>\n",
       "<table border=\"1\" class=\"dataframe\">\n",
       "  <thead>\n",
       "    <tr style=\"text-align: right;\">\n",
       "      <th></th>\n",
       "      <th>Invoice</th>\n",
       "      <th>StockCode</th>\n",
       "      <th>Description</th>\n",
       "      <th>Quantity</th>\n",
       "      <th>InvoiceDate</th>\n",
       "      <th>Price</th>\n",
       "      <th>Customer ID</th>\n",
       "      <th>Country</th>\n",
       "    </tr>\n",
       "  </thead>\n",
       "  <tbody>\n",
       "    <tr>\n",
       "      <th>0</th>\n",
       "      <td>510866.0</td>\n",
       "      <td>21201</td>\n",
       "      <td>TROPICAL  HONEYCOMB PAPER GARLAND</td>\n",
       "      <td>1.0</td>\n",
       "      <td>2010-06-04 09:52:00</td>\n",
       "      <td>2.55</td>\n",
       "      <td>NaN</td>\n",
       "      <td>United Kingdom</td>\n",
       "    </tr>\n",
       "    <tr>\n",
       "      <th>1</th>\n",
       "      <td>510866.0</td>\n",
       "      <td>21206</td>\n",
       "      <td>STRAWBERRY HONEYCOMB  GARLAND</td>\n",
       "      <td>1.0</td>\n",
       "      <td>2010-06-04 09:52:00</td>\n",
       "      <td>1.65</td>\n",
       "      <td>NaN</td>\n",
       "      <td>United Kingdom</td>\n",
       "    </tr>\n",
       "    <tr>\n",
       "      <th>2</th>\n",
       "      <td>510866.0</td>\n",
       "      <td>84705D</td>\n",
       "      <td>CHERRY BLOSSOM PHOTO FRAME</td>\n",
       "      <td>1.0</td>\n",
       "      <td>2010-06-04 09:52:00</td>\n",
       "      <td>4.65</td>\n",
       "      <td>NaN</td>\n",
       "      <td>United Kingdom</td>\n",
       "    </tr>\n",
       "    <tr>\n",
       "      <th>3</th>\n",
       "      <td>510866.0</td>\n",
       "      <td>21214</td>\n",
       "      <td>SET OF 72 IVORY PAPER DOILIES</td>\n",
       "      <td>1.0</td>\n",
       "      <td>2010-06-04 09:52:00</td>\n",
       "      <td>1.45</td>\n",
       "      <td>NaN</td>\n",
       "      <td>United Kingdom</td>\n",
       "    </tr>\n",
       "    <tr>\n",
       "      <th>4</th>\n",
       "      <td>510866.0</td>\n",
       "      <td>84985A</td>\n",
       "      <td>SET OF 72 GREEN PAPER DOILIES</td>\n",
       "      <td>1.0</td>\n",
       "      <td>2010-06-04 09:52:00</td>\n",
       "      <td>1.45</td>\n",
       "      <td>NaN</td>\n",
       "      <td>United Kingdom</td>\n",
       "    </tr>\n",
       "    <tr>\n",
       "      <th>5</th>\n",
       "      <td>510866.0</td>\n",
       "      <td>21973</td>\n",
       "      <td>SET OF 36 MUSHROOM PAPER DOILIES</td>\n",
       "      <td>1.0</td>\n",
       "      <td>2010-06-04 09:52:00</td>\n",
       "      <td>1.45</td>\n",
       "      <td>NaN</td>\n",
       "      <td>United Kingdom</td>\n",
       "    </tr>\n",
       "    <tr>\n",
       "      <th>6</th>\n",
       "      <td>510866.0</td>\n",
       "      <td>21201</td>\n",
       "      <td>TROPICAL  HONEYCOMB PAPER GARLAND</td>\n",
       "      <td>2.0</td>\n",
       "      <td>2010-06-04 09:52:00</td>\n",
       "      <td>2.55</td>\n",
       "      <td>NaN</td>\n",
       "      <td>United Kingdom</td>\n",
       "    </tr>\n",
       "    <tr>\n",
       "      <th>7</th>\n",
       "      <td>510866.0</td>\n",
       "      <td>21190</td>\n",
       "      <td>PINK HEARTS PAPER GARLAND</td>\n",
       "      <td>2.0</td>\n",
       "      <td>2010-06-04 09:52:00</td>\n",
       "      <td>1.65</td>\n",
       "      <td>NaN</td>\n",
       "      <td>United Kingdom</td>\n",
       "    </tr>\n",
       "    <tr>\n",
       "      <th>8</th>\n",
       "      <td>510866.0</td>\n",
       "      <td>84859A</td>\n",
       "      <td>SILVER DISCO HANDBAG</td>\n",
       "      <td>1.0</td>\n",
       "      <td>2010-06-04 09:52:00</td>\n",
       "      <td>5.95</td>\n",
       "      <td>NaN</td>\n",
       "      <td>United Kingdom</td>\n",
       "    </tr>\n",
       "    <tr>\n",
       "      <th>9</th>\n",
       "      <td>510866.0</td>\n",
       "      <td>22175</td>\n",
       "      <td>PINK OWL SOFT TOY</td>\n",
       "      <td>1.0</td>\n",
       "      <td>2010-06-04 09:52:00</td>\n",
       "      <td>2.95</td>\n",
       "      <td>NaN</td>\n",
       "      <td>United Kingdom</td>\n",
       "    </tr>\n",
       "  </tbody>\n",
       "</table>\n",
       "</div>"
      ],
      "text/plain": [
       "    Invoice StockCode                         Description  Quantity  \\\n",
       "0  510866.0     21201  TROPICAL  HONEYCOMB PAPER GARLAND        1.0   \n",
       "1  510866.0     21206      STRAWBERRY HONEYCOMB  GARLAND        1.0   \n",
       "2  510866.0    84705D         CHERRY BLOSSOM PHOTO FRAME        1.0   \n",
       "3  510866.0     21214       SET OF 72 IVORY PAPER DOILIES       1.0   \n",
       "4  510866.0    84985A       SET OF 72 GREEN PAPER DOILIES       1.0   \n",
       "5  510866.0     21973    SET OF 36 MUSHROOM PAPER DOILIES       1.0   \n",
       "6  510866.0     21201  TROPICAL  HONEYCOMB PAPER GARLAND        2.0   \n",
       "7  510866.0     21190           PINK HEARTS PAPER GARLAND       2.0   \n",
       "8  510866.0    84859A                SILVER DISCO HANDBAG       1.0   \n",
       "9  510866.0     22175                   PINK OWL SOFT TOY       1.0   \n",
       "\n",
       "          InvoiceDate  Price  Customer ID         Country  \n",
       "0 2010-06-04 09:52:00   2.55          NaN  United Kingdom  \n",
       "1 2010-06-04 09:52:00   1.65          NaN  United Kingdom  \n",
       "2 2010-06-04 09:52:00   4.65          NaN  United Kingdom  \n",
       "3 2010-06-04 09:52:00   1.45          NaN  United Kingdom  \n",
       "4 2010-06-04 09:52:00   1.45          NaN  United Kingdom  \n",
       "5 2010-06-04 09:52:00   1.45          NaN  United Kingdom  \n",
       "6 2010-06-04 09:52:00   2.55          NaN  United Kingdom  \n",
       "7 2010-06-04 09:52:00   1.65          NaN  United Kingdom  \n",
       "8 2010-06-04 09:52:00   5.95          NaN  United Kingdom  \n",
       "9 2010-06-04 09:52:00   2.95          NaN  United Kingdom  "
      ]
     },
     "execution_count": 104,
     "metadata": {},
     "output_type": "execute_result"
    }
   ],
   "source": [
    "df_prod = pd.read_sql(\"SELECT * FROM Year2009\", con = conn)\n",
    "df_prod.head(10)"
   ]
  },
  {
   "cell_type": "markdown",
   "metadata": {},
   "source": [
    "## DF to Database"
   ]
  },
  {
   "cell_type": "markdown",
   "metadata": {},
   "source": [
    "#### You can find below the method after manipulating the data in pandas how to processed in SQL"
   ]
  },
  {
   "cell_type": "code",
   "execution_count": 106,
   "metadata": {},
   "outputs": [],
   "source": [
    "import sqlalchemy\n",
    "import urllib"
   ]
  },
  {
   "cell_type": "code",
   "execution_count": 107,
   "metadata": {},
   "outputs": [],
   "source": [
    "create_database_query = 'Create database Tayfun'"
   ]
  },
  {
   "cell_type": "code",
   "execution_count": 108,
   "metadata": {},
   "outputs": [],
   "source": [
    "def create_database (conn, create_database_query):\n",
    "    crs = conn.cursor()\n",
    "    try:\n",
    "        crs.execute(create_database_query)\n",
    "        print(\"Database is created succesfully\")\n",
    "    except Error as err:\n",
    "        print(f\"Error:'{err}'\")"
   ]
  },
  {
   "cell_type": "code",
   "execution_count": 109,
   "metadata": {},
   "outputs": [
    {
     "name": "stdout",
     "output_type": "stream",
     "text": [
      "Database is created succesfully\n"
     ]
    }
   ],
   "source": [
    "create_database(conn, create_database_query)"
   ]
  },
  {
   "cell_type": "code",
   "execution_count": 113,
   "metadata": {},
   "outputs": [],
   "source": [
    "def execute_query(conn, query):\n",
    "    crs = conn.cursor()\n",
    "    try:\n",
    "        crs.execute(query)\n",
    "        conn.commit()\n",
    "        print(\"Query Succeessful!\")\n",
    "    except Error as err:\n",
    "        print(f\"Error:'{err}'\")"
   ]
  },
  {
   "cell_type": "code",
   "execution_count": 122,
   "metadata": {},
   "outputs": [
    {
     "data": {
      "text/plain": [
       "<pyodbc.Cursor at 0x169837871b0>"
      ]
     },
     "execution_count": 122,
     "metadata": {},
     "output_type": "execute_result"
    }
   ],
   "source": [
    "crs.execute('USE RFM')"
   ]
  },
  {
   "cell_type": "code",
   "execution_count": 117,
   "metadata": {
    "scrolled": true
   },
   "outputs": [],
   "source": [
    "driver = '{ODBC Driver 17 for SQL Server}'\n",
    "server = '.\\MSSQLSERVER2' #localhost\n",
    "database = 'RFM'#\n",
    "user = 'sa'\n",
    "password = 'Sakarya.1910'\n"
   ]
  },
  {
   "cell_type": "code",
   "execution_count": 118,
   "metadata": {},
   "outputs": [],
   "source": [
    "params = 'DRIVER='+driver + ';SERVER=' + server +';PORT=1433;DATABASE='+ database + ';UID=' + user + ';PWD=' + password"
   ]
  },
  {
   "cell_type": "code",
   "execution_count": 119,
   "metadata": {},
   "outputs": [],
   "source": [
    "db_params = urllib.parse.quote_plus (params)\n",
    "engine = sqlalchemy.create_engine(\"mssql+pyodbc:///?odbc_connect={}\".format(db_params))"
   ]
  },
  {
   "cell_type": "code",
   "execution_count": 123,
   "metadata": {},
   "outputs": [
    {
     "data": {
      "text/html": [
       "<div>\n",
       "<style scoped>\n",
       "    .dataframe tbody tr th:only-of-type {\n",
       "        vertical-align: middle;\n",
       "    }\n",
       "\n",
       "    .dataframe tbody tr th {\n",
       "        vertical-align: top;\n",
       "    }\n",
       "\n",
       "    .dataframe thead th {\n",
       "        text-align: right;\n",
       "    }\n",
       "</style>\n",
       "<table border=\"1\" class=\"dataframe\">\n",
       "  <thead>\n",
       "    <tr style=\"text-align: right;\">\n",
       "      <th></th>\n",
       "      <th>Invoice</th>\n",
       "      <th>StockCode</th>\n",
       "      <th>Description</th>\n",
       "      <th>Quantity</th>\n",
       "      <th>InvoiceDate</th>\n",
       "      <th>Price</th>\n",
       "      <th>Customer ID</th>\n",
       "      <th>Country</th>\n",
       "    </tr>\n",
       "  </thead>\n",
       "  <tbody>\n",
       "    <tr>\n",
       "      <th>0</th>\n",
       "      <td>510866.0</td>\n",
       "      <td>84859A</td>\n",
       "      <td>SILVER DISCO HANDBAG</td>\n",
       "      <td>1.0</td>\n",
       "      <td>2010-06-04 09:52:00</td>\n",
       "      <td>5.95</td>\n",
       "      <td>NaN</td>\n",
       "      <td>United Kingdom</td>\n",
       "    </tr>\n",
       "    <tr>\n",
       "      <th>1</th>\n",
       "      <td>510866.0</td>\n",
       "      <td>22191</td>\n",
       "      <td>EAU DE NIL DINER WALL CLOCK</td>\n",
       "      <td>1.0</td>\n",
       "      <td>2010-06-04 09:52:00</td>\n",
       "      <td>8.50</td>\n",
       "      <td>NaN</td>\n",
       "      <td>United Kingdom</td>\n",
       "    </tr>\n",
       "    <tr>\n",
       "      <th>2</th>\n",
       "      <td>510866.0</td>\n",
       "      <td>84923</td>\n",
       "      <td>PINK BUTTERFLY HANDBAG W BOBBLES</td>\n",
       "      <td>1.0</td>\n",
       "      <td>2010-06-04 09:52:00</td>\n",
       "      <td>8.50</td>\n",
       "      <td>NaN</td>\n",
       "      <td>United Kingdom</td>\n",
       "    </tr>\n",
       "    <tr>\n",
       "      <th>3</th>\n",
       "      <td>510866.0</td>\n",
       "      <td>21839</td>\n",
       "      <td>MUMMY MOUSE RED GINGHAM RIBBON</td>\n",
       "      <td>1.0</td>\n",
       "      <td>2010-06-04 09:52:00</td>\n",
       "      <td>5.45</td>\n",
       "      <td>NaN</td>\n",
       "      <td>United Kingdom</td>\n",
       "    </tr>\n",
       "    <tr>\n",
       "      <th>4</th>\n",
       "      <td>NaN</td>\n",
       "      <td>21527</td>\n",
       "      <td>RED RETROSPOT TRADITIONAL TEAPOT</td>\n",
       "      <td>-1.0</td>\n",
       "      <td>2010-06-04 09:53:00</td>\n",
       "      <td>7.95</td>\n",
       "      <td>12809.0</td>\n",
       "      <td>Portugal</td>\n",
       "    </tr>\n",
       "    <tr>\n",
       "      <th>5</th>\n",
       "      <td>NaN</td>\n",
       "      <td>22220</td>\n",
       "      <td>CAKE STAND LOVEBIRD 2 TIER WHITE</td>\n",
       "      <td>-3.0</td>\n",
       "      <td>2010-06-04 09:59:00</td>\n",
       "      <td>8.50</td>\n",
       "      <td>12424.0</td>\n",
       "      <td>Australia</td>\n",
       "    </tr>\n",
       "    <tr>\n",
       "      <th>6</th>\n",
       "      <td>510936.0</td>\n",
       "      <td>47590B</td>\n",
       "      <td>PINK HAPPY BIRTHDAY BUNTING</td>\n",
       "      <td>6.0</td>\n",
       "      <td>2010-06-04 10:35:00</td>\n",
       "      <td>5.45</td>\n",
       "      <td>12701.0</td>\n",
       "      <td>Germany</td>\n",
       "    </tr>\n",
       "    <tr>\n",
       "      <th>7</th>\n",
       "      <td>510936.0</td>\n",
       "      <td>POST</td>\n",
       "      <td>POSTAGE</td>\n",
       "      <td>2.0</td>\n",
       "      <td>2010-06-04 10:35:00</td>\n",
       "      <td>18.00</td>\n",
       "      <td>12701.0</td>\n",
       "      <td>Germany</td>\n",
       "    </tr>\n",
       "    <tr>\n",
       "      <th>8</th>\n",
       "      <td>510942.0</td>\n",
       "      <td>21755</td>\n",
       "      <td>LOVE BUILDING BLOCK WORD</td>\n",
       "      <td>3.0</td>\n",
       "      <td>2010-06-04 10:37:00</td>\n",
       "      <td>5.95</td>\n",
       "      <td>13715.0</td>\n",
       "      <td>United Kingdom</td>\n",
       "    </tr>\n",
       "    <tr>\n",
       "      <th>9</th>\n",
       "      <td>510942.0</td>\n",
       "      <td>22220</td>\n",
       "      <td>CAKE STAND LOVEBIRD 2 TIER WHITE</td>\n",
       "      <td>2.0</td>\n",
       "      <td>2010-06-04 10:37:00</td>\n",
       "      <td>9.95</td>\n",
       "      <td>13715.0</td>\n",
       "      <td>United Kingdom</td>\n",
       "    </tr>\n",
       "  </tbody>\n",
       "</table>\n",
       "</div>"
      ],
      "text/plain": [
       "    Invoice StockCode                        Description  Quantity  \\\n",
       "0  510866.0    84859A               SILVER DISCO HANDBAG       1.0   \n",
       "1  510866.0     22191        EAU DE NIL DINER WALL CLOCK       1.0   \n",
       "2  510866.0     84923   PINK BUTTERFLY HANDBAG W BOBBLES       1.0   \n",
       "3  510866.0     21839     MUMMY MOUSE RED GINGHAM RIBBON       1.0   \n",
       "4       NaN     21527  RED RETROSPOT TRADITIONAL TEAPOT       -1.0   \n",
       "5       NaN     22220   CAKE STAND LOVEBIRD 2 TIER WHITE      -3.0   \n",
       "6  510936.0    47590B        PINK HAPPY BIRTHDAY BUNTING       6.0   \n",
       "7  510936.0      POST                            POSTAGE       2.0   \n",
       "8  510942.0     21755           LOVE BUILDING BLOCK WORD       3.0   \n",
       "9  510942.0     22220   CAKE STAND LOVEBIRD 2 TIER WHITE       2.0   \n",
       "\n",
       "          InvoiceDate  Price  Customer ID         Country  \n",
       "0 2010-06-04 09:52:00   5.95          NaN  United Kingdom  \n",
       "1 2010-06-04 09:52:00   8.50          NaN  United Kingdom  \n",
       "2 2010-06-04 09:52:00   8.50          NaN  United Kingdom  \n",
       "3 2010-06-04 09:52:00   5.45          NaN  United Kingdom  \n",
       "4 2010-06-04 09:53:00   7.95      12809.0        Portugal  \n",
       "5 2010-06-04 09:59:00   8.50      12424.0       Australia  \n",
       "6 2010-06-04 10:35:00   5.45      12701.0         Germany  \n",
       "7 2010-06-04 10:35:00  18.00      12701.0         Germany  \n",
       "8 2010-06-04 10:37:00   5.95      13715.0  United Kingdom  \n",
       "9 2010-06-04 10:37:00   9.95      13715.0  United Kingdom  "
      ]
     },
     "execution_count": 123,
     "metadata": {},
     "output_type": "execute_result"
    }
   ],
   "source": [
    "df_prod = pd.read_sql(\"SELECT * FROM Year2009 where price >5.00\", con = conn)\n",
    "df_prod.head(10)"
   ]
  },
  {
   "cell_type": "code",
   "execution_count": 124,
   "metadata": {},
   "outputs": [],
   "source": [
    "df_prod.to_sql(\"price_greater_5\", engine, index = False, if_exists = \"append\", schema = \"dbo\")"
   ]
  },
  {
   "cell_type": "markdown",
   "metadata": {},
   "source": [
    "### When it comes to last column we create a table in SQL with the query which is SELECT * FROM Year2009 where price >5.00 We are able to observe the table in SQL  through to_sql method"
   ]
  },
  {
   "cell_type": "code",
   "execution_count": null,
   "metadata": {},
   "outputs": [],
   "source": []
  }
 ],
 "metadata": {
  "kernelspec": {
   "display_name": "Python 3",
   "language": "python",
   "name": "python3"
  },
  "language_info": {
   "codemirror_mode": {
    "name": "ipython",
    "version": 3
   },
   "file_extension": ".py",
   "mimetype": "text/x-python",
   "name": "python",
   "nbconvert_exporter": "python",
   "pygments_lexer": "ipython3",
   "version": "3.8.3"
  }
 },
 "nbformat": 4,
 "nbformat_minor": 5
}
